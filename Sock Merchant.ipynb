{
 "cells": [
  {
   "cell_type": "code",
   "execution_count": 95,
   "metadata": {},
   "outputs": [
    {
     "name": "stdout",
     "output_type": "stream",
     "text": [
      "9\n",
      "10 20 20 10 10 30 50 10 20\n",
      "3\n"
     ]
    }
   ],
   "source": [
    "import math as m\n",
    "\n",
    "def unique(socks_pile):\n",
    "    unique_pile=[]\n",
    "    for i in socks_pile:\n",
    "        if i not in unique_pile:\n",
    "            unique_pile.append(i)\n",
    "        else:\n",
    "            continue\n",
    "    return unique_pile\n",
    "\n",
    "def sockCount(unique_pile, ar):\n",
    "    pair_count=[]\n",
    "    for i in range(len(unique_pile)):\n",
    "        pair_count.append(0)\n",
    "        \n",
    "    for i in ar:\n",
    "        index=unique_pile.index(i)\n",
    "        pair_count[index]+=1\n",
    "        \n",
    "    return pair_count\n",
    "\n",
    "def organized(pairs_unorganized):\n",
    "    ans=0\n",
    "    for i in pairs_unorganized:\n",
    "        ans+=m.floor(i/2)\n",
    "    return ans\n",
    "\n",
    "if __name__=='__main__':\n",
    "    n=int(input())\n",
    "    ar=list(map(int, input().rstrip().split()))\n",
    "    unique_pile=unique(ar)\n",
    "    pairs_unorganized=sockCount(unique_pile,ar)\n",
    "    print(organized(pairs_unorganized))\n",
    "    \n",
    "    \n",
    "    "
   ]
  }
 ],
 "metadata": {
  "kernelspec": {
   "display_name": "Python 3",
   "language": "python",
   "name": "python3"
  },
  "language_info": {
   "codemirror_mode": {
    "name": "ipython",
    "version": 3
   },
   "file_extension": ".py",
   "mimetype": "text/x-python",
   "name": "python",
   "nbconvert_exporter": "python",
   "pygments_lexer": "ipython3",
   "version": "3.7.4"
  }
 },
 "nbformat": 4,
 "nbformat_minor": 2
}
