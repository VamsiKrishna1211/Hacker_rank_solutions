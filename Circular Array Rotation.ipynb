{
 "cells": [
  {
   "cell_type": "code",
   "execution_count": null,
   "metadata": {},
   "outputs": [],
   "source": [
    "def circularArrayRotation(a, k, queries):\n",
    "    loc=0\n",
    "    for j in range(k):\n",
    "        loc+=1\n",
    "        if (loc>len(a)-1):\n",
    "            loc = 0\n",
    "            \n",
    "    q_return=[]\n",
    "    for i in queries:\n",
    "        tmp=i\n",
    "        tmp=tmp+loc\n",
    "        if(tmp>len(a)-1):\n",
    "            q_return.append(tmp-len(a)-1)\n",
    "    return q_return\n",
    "if __name__==\"__main__\":\n",
    "    n,k,q=map(int, input().strip().split())\n",
    "    a=list(map(int, input().strip().split()))\n",
    "    queries=[]\n",
    "    for _ in range(q):\n",
    "        queries_item = int(input())\n",
    "        queries.append(queries_item)\n",
    "\n",
    "    result = circularArrayRotation(a, k, queries)\n",
    "    #print(result)\n",
    "    print('\\n'.join(map(str, result)))\n",
    "    "
   ]
  },
  {
   "cell_type": "code",
   "execution_count": null,
   "metadata": {},
   "outputs": [],
   "source": []
  },
  {
   "cell_type": "code",
   "execution_count": null,
   "metadata": {},
   "outputs": [],
   "source": []
  },
  {
   "cell_type": "code",
   "execution_count": 21,
   "metadata": {},
   "outputs": [
    {
     "name": "stdout",
     "output_type": "stream",
     "text": [
      "[2]\n",
      "[0]\n",
      "[1]\n"
     ]
    }
   ],
   "source": [
    "def circularArrayRotation(a, k, queries):\n",
    "    loc_0=0\n",
    "    for i in range(k):\n",
    "        loc_0+=1\n",
    "        if(loc_0==0):\n",
    "            continue\n",
    "            \n",
    "        if (loc_0>len(a)-1):\n",
    "            loc_0=0\n",
    "    queries_ret=[]\n",
    "    for i in queries:\n",
    "        tmp=i\n",
    "        tmp=tmp+loc_0\n",
    "        while(tmp>len(a)-1):\n",
    "            tmp=tmp-(len(a))\n",
    "        queries_ret.append([tmp])\n",
    "    return queries_ret\n",
    "            \n",
    "        \n",
    "\n",
    "\n",
    "if __name__==\"__main__\": \n",
    "    f=open(\"/home/vamsik1211/git_repos/Hacker_rank_solutions/input/input15.txt\", \"r\")\n",
    "    n,k,q=map(int, f.readline().strip().split())\n",
    "    a=list(map(int, f.readline().strip().split()))\n",
    "    queries=[]\n",
    "    for _ in range(q):\n",
    "        queries_item = int(f.readline())\n",
    "        queries.append(queries_item)\n",
    "\n",
    "    result = circularArrayRotation(a, k, queries)\n",
    "    #print(result)\n",
    "    print('\\n'.join(map(str, result)))\n",
    "    "
   ]
  },
  {
   "cell_type": "code",
   "execution_count": 22,
   "metadata": {},
   "outputs": [
    {
     "name": "stdout",
     "output_type": "stream",
     "text": [
      "10 20\n"
     ]
    }
   ],
   "source": []
  },
  {
   "cell_type": "code",
   "execution_count": null,
   "metadata": {},
   "outputs": [],
   "source": []
  }
 ],
 "metadata": {
  "kernelspec": {
   "display_name": "Python 3",
   "language": "python",
   "name": "python3"
  },
  "language_info": {
   "codemirror_mode": {
    "name": "ipython",
    "version": 3
   },
   "file_extension": ".py",
   "mimetype": "text/x-python",
   "name": "python",
   "nbconvert_exporter": "python",
   "pygments_lexer": "ipython3",
   "version": "3.7.5"
  }
 },
 "nbformat": 4,
 "nbformat_minor": 2
}
