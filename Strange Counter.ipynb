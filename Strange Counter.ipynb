{
 "cells": [
  {
   "cell_type": "code",
   "execution_count": 12,
   "metadata": {},
   "outputs": [],
   "source": [
    "def strangeCounter(t):\n",
    "    initial = 3\n",
    "    count = initial\n",
    "    run_no = 1\n",
    "    #count += 1\n",
    "    for i in range(1,t+1):\n",
    "        #print(i,end=\"\")\n",
    "        #print(\"\\t\",count)\n",
    "        if(i==t):\n",
    "            break\n",
    "        if(count == 1):\n",
    "            count = initial*2\n",
    "            initial = count\n",
    "            continue\n",
    "        count -= 1\n",
    "    return(count)\n",
    "            "
   ]
  },
  {
   "cell_type": "code",
   "execution_count": 14,
   "metadata": {},
   "outputs": [
    {
     "name": "stdout",
     "output_type": "stream",
     "text": [
      "1\t 3\n",
      "2\t 2\n",
      "3\t 1\n",
      "4\t 6\n",
      "5\t 5\n",
      "6\t 4\n",
      "7\t 3\n",
      "8\t 2\n",
      "9\t 1\n",
      "1\n"
     ]
    }
   ],
   "source": [
    "print(strangeCounter(9))"
   ]
  },
  {
   "cell_type": "code",
   "execution_count": 41,
   "metadata": {},
   "outputs": [
    {
     "ename": "NameError",
     "evalue": "name 'count' is not defined",
     "output_type": "error",
     "traceback": [
      "\u001b[0;31m---------------------------------------------------------------------------\u001b[0m",
      "\u001b[0;31mNameError\u001b[0m                                 Traceback (most recent call last)",
      "\u001b[0;32m<ipython-input-41-26780ddf2751>\u001b[0m in \u001b[0;36m<module>\u001b[0;34m\u001b[0m\n\u001b[0;32m----> 1\u001b[0;31m \u001b[0mcount\u001b[0m\u001b[0;34m\u001b[0m\u001b[0;34m\u001b[0m\u001b[0m\n\u001b[0m",
      "\u001b[0;31mNameError\u001b[0m: name 'count' is not defined"
     ]
    }
   ],
   "source": [
    "count"
   ]
  },
  {
   "cell_type": "code",
   "execution_count": null,
   "metadata": {},
   "outputs": [],
   "source": []
  }
 ],
 "metadata": {
  "kernelspec": {
   "display_name": "Python 3",
   "language": "python",
   "name": "python3"
  },
  "language_info": {
   "codemirror_mode": {
    "name": "ipython",
    "version": 3
   },
   "file_extension": ".py",
   "mimetype": "text/x-python",
   "name": "python",
   "nbconvert_exporter": "python",
   "pygments_lexer": "ipython3",
   "version": "3.7.4"
  }
 },
 "nbformat": 4,
 "nbformat_minor": 2
}
