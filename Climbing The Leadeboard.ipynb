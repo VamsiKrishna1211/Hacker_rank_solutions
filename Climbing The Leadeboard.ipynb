{
 "cells": [
  {
   "cell_type": "code",
   "execution_count": 39,
   "metadata": {},
   "outputs": [
    {
     "name": "stdout",
     "output_type": "stream",
     "text": [
      "6\n",
      "5\n",
      "4\n",
      "2\n",
      "1\n"
     ]
    }
   ],
   "source": [
    "\n",
    "# Uncoment bwlow for Custom input\n",
    "scores_count = int(input())\n",
    "\n",
    "scores = list(map(int, input().rstrip().split()))\n",
    "\n",
    "alice_count = int(input())\n",
    "\n",
    "alice = list(map(int, input().rstrip().split()))\n",
    "\n",
    "# scores_count=6\n",
    "# scores=[100, 90, 90, 80, 75, 60]\n",
    "# alice_count=5\n",
    "# alice=[50, 65, 77, 90, 102]\n",
    "\n",
    "def arrangeScoresRank(scores):\n",
    "    rank_arrange=[scores[0]]\n",
    "    for i in range(1,len(scores)):\n",
    "        if(scores[i-1]!=scores[i]):\n",
    "            rank_arrange.append(int(scores[i]))\n",
    "    return rank_arrange\n",
    "\n",
    "\n",
    "\n",
    "scores_singles=arrangeScoresRank(scores)\n",
    "\n",
    "\n",
    "def climbingLeaderboard(scores_singles, alice):\n",
    "    ranks_of_alice=[]\n",
    "    for i in alice:\n",
    "        for j in range(len(scores_singles)):\n",
    "            if (i>=scores_singles[j]):\n",
    "                ranks_of_alice.append(int(j+1))\n",
    "                break\n",
    "            if(i<scores_singles[len(scores_singles)-1]):\n",
    "                ranks_of_alice.append(len(scores_singles)+1)\n",
    "                break\n",
    "    return ranks_of_alice\n",
    "#print(climbingLeaderboard(scores_singles,alice))\n",
    "print('\\n'.join(map(str, climbingLeaderboard(scores_singles,alice))))"
   ]
  },
  {
   "cell_type": "code",
   "execution_count": null,
   "metadata": {},
   "outputs": [],
   "source": []
  }
 ],
 "metadata": {
  "kernelspec": {
   "display_name": "Python 3",
   "language": "python",
   "name": "python3"
  },
  "language_info": {
   "codemirror_mode": {
    "name": "ipython",
    "version": 3
   },
   "file_extension": ".py",
   "mimetype": "text/x-python",
   "name": "python",
   "nbconvert_exporter": "python",
   "pygments_lexer": "ipython3",
   "version": "3.7.4"
  }
 },
 "nbformat": 4,
 "nbformat_minor": 2
}
