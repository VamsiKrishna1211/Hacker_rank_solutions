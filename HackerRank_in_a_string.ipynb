{
 "cells": [
  {
   "cell_type": "code",
   "execution_count": 58,
   "metadata": {},
   "outputs": [],
   "source": [
    "def hackerrankInString(s):\n",
    "    com = list('hackerrank')\n",
    "    ans2 = 0\n",
    "    #count = 0\n",
    "    for i in com:\n",
    "        ans = s[ans2:len(s)]\n",
    "        ans1 = ans.find(i)\n",
    "        if(ans1 <= -1):\n",
    "            return \"NO\"\n",
    "        ans2 = ans1 + ans2 + 1\n",
    "        #print(i,' ',ans2, '  ', len(ans))\n",
    "    return \"YES\""
   ]
  },
  {
   "cell_type": "code",
   "execution_count": 41,
   "metadata": {},
   "outputs": [
    {
     "name": "stdout",
     "output_type": "stream",
     "text": [
      "bvxqokorcxbivcnvdmcametgxvzftjkiyzatzatnapwttpxwqegvxllbtvxfnmwwbkicnaxmjxwgecexnndlgmwfsiusksumczuzfpajpmsboatncwzecbkxavloimnkllziuvaikvogykbcqizbqmdxyipclavzgvgonstdzpzskwvixgdfyblmmymtxwoxsoyqlqzbsyuatyebgkwznlnxqjefgkeluqcvtgmtvjsbaalxpqdmkptbqyefleiulcbsijglnawbwmbzuqybuqfmpewqnvnxqpawngtmuplfvlctyysbicubvnbjaayepapsotfzzfpdifsnpovufuuxsevipbbylkyoboqjatntvtqpbxjgposuleiqjnzbdecuzdjujweuztnwoggaoljoniwpkdbttjpnfomegodafcqpfjoxcpaiejdnnkvavjxgnbffuzkaozveqekvmdvwfnldlpzbkyioczsqnggspqgeyktlksupywxkgydwzovlndectcjwnxikuwcqdapqlvsdlboaesypkpujcdmwqmvfoqlsptkkzwsmauadiuqoygoucdzcgoodmdmwcaafwygzktolpqzvyovekgpobndncyzmpemzsxtzovjxzettonibczyyxdfvbealnzsoysminakkcwlmnnxnlultsnagfllmckenvbyimcmxsxkwfxcozjniayaydmausxgwntoxplvmnbqmgnbqibbksgxzjydswmdlmxdcjzszicsowtnntakaopldgywibqdbiapexeumwizozfdjzdjfevwkycctuoplypfvnlclilayfgntuaidctvxntujlaqzizoiueqgkydnzqfeaizobbniyswfaooxuzxfcuvsplksvgqnpitctdkymlytpxtzikveznmvzakpiecagzilefzluzfxexzwiwcfmwfgbvumcalixagmikxgdwjdblzlowyximkgwtwgkcycluaiuddfocelymvfccfbwykfobxpuwxkbppsgyndquubdvtmzjfeoiddeydndzpciidysilvtmtfjiejaodwakwbmqgcgklvljfykmglvikblmdyynxuigxgkujcjtenjgpdimocywaxfwqusyzpytwxpvsbxqqqjbcvzqfmppaixnofygmxilxijxzyxgmfjiosgxasfbnanzqawmiuzdpbygzussrymjsbdjwsxzxxpjzskoqqslqwxlnvqycqtmsklyywuqfdkfofwtoeccajywebpwwxydjvqcdgaaztmxntemvlqxpsstzlzullnpxbyjywstjelfjeizvzjfguimgoacptxioauqiqkabptbsebcdzctdtyqapbjastgmlvoekosvkfbzfbnwkoiytspdkeoywpaajkqvlgvjqqgdomywcsgojgkiewjcytaskqgloqtdjbssfjdcgxmjtsbmmgkbdakxclflnmadmbnzljqqunuwwvvquxjtiiazivxoogvbmpajvbtclkjjyjovbstpvgspigyctgcbxxockkvlzllftwzbnlpnjxoppkluqoxkpaauipgndpixfeqyucgtyqfngemdnyfywiyafxtcfypgcvslwmzxtmxqljdcxibsfctqsgipwqjcvkcziwjeyzkjocynfmbwmokmkbitlxceucgksjytasldlngbvzegokdppywngxululnxvxcuiffgiyzjbfqfkfdnqwtmaknebokdistbgvunmdfdplxfosoixqcaalexpnvffaxtzmdafsczxbtwejnabxiugiecdjvjaduyswnqmgogjsnqajqjvekonsfamdiblvwidimdkblpbzcubdieztmmyibdzaoljbaiptpvqaofgnxcuwmycdqijtwonoivfxjdayagywnazkzgmlcdwcjvssyjndebotuybwkffvazpbcddkgoqjtqtpxljosfcsebmoyajqagcfpngmjfcsjgnzcmlftngnococzvnybagwdfgmnvlcsuyxniomxqcmaebfadlopzcznepbixvkxxvvsajitzxcvvbezmbnglkwsnmqxecgfjxcvzsysokyewupakmfjjtwjiqwexitgoznwtimxzgewskdmicmgmpoekeypqusfitatpfovzlgkgxizbntbjqpcafpzuwocpkyjguoqmcnpeivbdqldcqkawikuvkmdbqvaikitakpyfvgacxtiijcvjijaowtmixlcoocdwgkeajvyfktgjwzzanxclapampbxgbmtetngyyumkemiqiggfxvoubsiemjwfyjzwlsxqfpotdbpusluexmuwkyzqsjlsloldiqyjblpsujxtfeeixluktalimfdiiwubqvdsmbbjxzcvdqtgbtevmlkolmnsiydxuaaubulnzscoopuqakwnnwgnvpignakbpwkgapuwuawdmdactluoovbbotgbafszbgukovsdnknakzyczlzqvqmeenpiyywcioanbbqffscplmntvaspeqaqmlxjywonjenoozpqebjliftfmlbeymayspcyllcetbtmoidbmwdonfnuxpttqbaoeiweykwtuakmajwlzuymbbcxcnnxezkzypyqaufbxziyfyggsfkjyjzlqqxnuypvimvwbbxwlavxjninvxjyddejclcaodwfucdsmkccvaoynvsficxzdnmyvfbdotsmncicjnsiqafizvibgqeapntkniagampbckuuezbnydoplvgjejqtilxajfqkkpxcdpyqbeiisucqybscyscscpaaqyvgmcmcijtwmkiaozeluxvukxbmizpxndyjxsuiaizawtxwoqjpugizvufwjvxscoeiqzdcqmcisckkskpzovfeukzdamjilzedgpbnddstwoblwevduslwgxqvttjesioswkfgojkmdzgytvuugewesjgquvcdkuokzieaizeenqdazmeobcofxgldvkxqiewulyaqzxejbkpayjcywmaeuoxfgtdymvenxmfiqbvdzissqampwpooovsoiflpoqydauotdkqjefzqtuogaftyjmpuuxkqgkaczwisyctlbqzsjusmapxtsyucsjzswbfcnqgzeasffawejjmvkaofoigkxzawcbfwvfejndvtokcljtdbsuieiqjnbesgbsjvslinnankqdobkkszaeknuddvuvgggdcyezlogexcpeqxuowjiwzvbliiymtbdlkltsimlxnaunaywzgjczuymtwtekdcnjwadoxcbfjdqmdnevjglqmamkdmabmmpigwtkgexknzqjdbtgvbzddvxvqqemnutoolglfjpkiuusilpqstsgvomtbgzcngfcjcdvviafqstxulqxqtwiulbmnqbfbvwsbkrgcmoifvfbtwfwjgsvaokzbicqxgpjopgyasxtcpyfylvodvtvfgsefulctkvwwyvlyngblgbbsnimeduwtsljfivqstkucdsgtwfpmdpeysogolimyquyaqegdgzmtecdjvkoudddglgloknwetevoylfmuyzlyzmbnmidwqfjzfvqfsnyujzvowbeaaxwexxoxbbacbxwjmxycocsjeywkinejdzvqoqwuygaibgtqjgfcntykovlnpgkexaegtgtkbdnqybbyxyuolewqzmiygtgjjydkdwzuobxnmsyfvknpxtpjliokwiubfdmdyzuwwcbovzzzzvinosvytlkospmtoffymqqxpfvlgzuwvbpkxmtkoulfqtepxnymktekecsbcjjepfkfymtknlsimdskbqblggvdsjmbeddyfqgydjocitgyaxfetweuqgddjblftvntcvsyfiaocolgwzcwnaxjmknejyfqbcmnpxobbometbyxndxxvxoiizxtdtwziwnaytyjdibyiknunywxabvoobxvdqvdwefywecgcqtcdjwelycezpvepjqosglnwpmmvzkbeifdzwgjytespluszuwvqdtfxldyaqudvfeuybfyjvxsxsedmppkmgcpbgjlsqzsmijmnzawagoiegjjvacxbczbyauuntdyqabsfgdoxptqxlpdgkunovezpaadvynncqdsdxxjnzqyfluujkjemxnxqpklbnzluaxwjubjmfvnkfwsxefmvabfeuvnfzioulufpzanmkkdbnvuelxugxngbezvyqcibeiudkvieaklzddeugnypwfebgpzxoqbpwoxwtmdvjfzvwncdosekzffuifkjyakdjpuypsdkvkgasqffxzqkmpmuejxgwcoppuidbgecndopibdotpdxkslywmcfaetmsxdkwypybggasmlwqjmvnlbivxketutvxpwvgbzfgpmsvcvvtwkloeljxalxzzfgbbcllopakazjvzgqadvllywpxamyodlvvqmpqgfbmcalnmzkqznflwvfzzaxdoyeczavqwpxuxglulkeaqumbdyzoutwtkbneoxlqlkleeotwtydzdcqipgyfdecjpyfvgzzmekmtlisyaldogvpwcqjdsgwucptuaibvntpukmgvjjansjkmpylvexmqgysjnwqnwudoqoquflcqyzffewolymmosbxvcgbnaauxopkllslgeguzngxszbkbdvfnvaitxtaimctciiydovnnffaamfvtawoqazqkdnpwuxkvxfapbogupbfoguzdivsxuyvdgyvwkcvkoptkdiunguslfafuoixcvwgxauqjnpfimlkavqpdomyiefhoisfujicsxglubqntfamsndkvgviukzfoxipwgtuewjpnzpllfmsilwgbvoajuydsnjollmljygoqfjujazlgxdwbwoiywlejidwjigiftnnbfnxzqvqyempksflipedanfpxknvmzezpfytiwwoadjfibznntgwtwwkkvqvdoqpysbfmbzkcxiwqftcgpwobcsefynfsxmsjmnlspimoftwcxkmzvudzgydagjajfdvnlgsybafzmccsykpjpvuekxkgkcfdniecdoquugwegimkdioekyubebqlwwuszbiynpwffeybuuiomwwsdppdneuunjgxktscgzzyqgwlesywoibkfidnogmgbtasxleelkxtecwssjusbcptnggtvxpincqvujktpzhm\n",
      "h   4835\n",
      "a   18\n",
      "c   48\n",
      "k   16\n",
      "e   4\n",
      "r   2\n",
      "r   4\n",
      "a   14\n",
      "n   24\n",
      "k   5\n",
      "YES\n"
     ]
    }
   ],
   "source": [
    "s = input()\n",
    "ans = hackerrankInString(s)\n",
    "print(ans)"
   ]
  },
  {
   "cell_type": "code",
   "execution_count": 39,
   "metadata": {},
   "outputs": [
    {
     "name": "stdout",
     "output_type": "stream",
     "text": [
      "k\n",
      "-1\n"
     ]
    }
   ],
   "source": [
    "s = 'euwyqpyetwituepruw'\n",
    "#s = list(s)\n",
    "a  = input()\n",
    "ans = s.find(a)\n",
    "print(ans)"
   ]
  },
  {
   "cell_type": "code",
   "execution_count": 42,
   "metadata": {},
   "outputs": [],
   "source": [
    "teststr= \"bvxqokorcxbivcnvdmcametgxvzftjkiyzatzatnapwttpxwqegvxllbtvxfnmwwbkicnaxmjxwgecexnndlgmwfsiusksumczuzfpajpmsboatncwzecbkxavloimnkllziuvaikvogykbcqizbqmdxyipclavzgvgonstdzpzskwvixgdfyblmmymtxwoxsoyqlqzbsyuatyebgkwznlnxqjefgkeluqcvtgmtvjsbaalxpqdmkptbqyefleiulcbsijglnawbwmbzuqybuqfmpewqnvnxqpawngtmuplfvlctyysbicubvnbjaayepapsotfzzfpdifsnpovufuuxsevipbbylkyoboqjatntvtqpbxjgposuleiqjnzbdecuzdjujweuztnwoggaoljoniwpkdbttjpnfomegodafcqpfjoxcpaiejdnnkvavjxgnbffuzkaozveqekvmdvwfnldlpzbkyioczsqnggspqgeyktlksupywxkgydwzovlndectcjwnxikuwcqdapqlvsdlboaesypkpujcdmwqmvfoqlsptkkzwsmauadiuqoygoucdzcgoodmdmwcaafwygzktolpqzvyovekgpobndncyzmpemzsxtzovjxzettonibczyyxdfvbealnzsoysminakkcwlmnnxnlultsnagfllmckenvbyimcmxsxkwfxcozjniayaydmausxgwntoxplvmnbqmgnbqibbksgxzjydswmdlmxdcjzszicsowtnntakaopldgywibqdbiapexeumwizozfdjzdjfevwkycctuoplypfvnlclilayfgntuaidctvxntujlaqzizoiueqgkydnzqfeaizobbniyswfaooxuzxfcuvsplksvgqnpitctdkymlytpxtzikveznmvzakpiecagzilefzluzfxexzwiwcfmwfgbvumcalixagmikxgdwjdblzlowyximkgwtwgkcycluaiuddfocelymvfccfbwykfobxpuwxkbppsgyndquubdvtmzjfeoiddeydndzpciidysilvtmtfjiejaodwakwbmqgcgklvljfykmglvikblmdyynxuigxgkujcjtenjgpdimocywaxfwqusyzpytwxpvsbxqqqjbcvzqfmppaixnofygmxilxijxzyxgmfjiosgxasfbnanzqawmiuzdpbygzussrymjsbdjwsxzxxpjzskoqqslqwxlnvqycqtmsklyywuqfdkfofwtoeccajywebpwwxydjvqcdgaaztmxntemvlqxpsstzlzullnpxbyjywstjelfjeizvzjfguimgoacptxioauqiqkabptbsebcdzctdtyqapbjastgmlvoekosvkfbzfbnwkoiytspdkeoywpaajkqvlgvjqqgdomywcsgojgkiewjcytaskqgloqtdjbssfjdcgxmjtsbmmgkbdakxclflnmadmbnzljqqunuwwvvquxjtiiazivxoogvbmpajvbtclkjjyjovbstpvgspigyctgcbxxockkvlzllftwzbnlpnjxoppkluqoxkpaauipgndpixfeqyucgtyqfngemdnyfywiyafxtcfypgcvslwmzxtmxqljdcxibsfctqsgipwqjcvkcziwjeyzkjocynfmbwmokmkbitlxceucgksjytasldlngbvzegokdppywngxululnxvxcuiffgiyzjbfqfkfdnqwtmaknebokdistbgvunmdfdplxfosoixqcaalexpnvffaxtzmdafsczxbtwejnabxiugiecdjvjaduyswnqmgogjsnqajqjvekonsfamdiblvwidimdkblpbzcubdieztmmyibdzaoljbaiptpvqaofgnxcuwmycdqijtwonoivfxjdayagywnazkzgmlcdwcjvssyjndebotuybwkffvazpbcddkgoqjtqtpxljosfcsebmoyajqagcfpngmjfcsjgnzcmlftngnococzvnybagwdfgmnvlcsuyxniomxqcmaebfadlopzcznepbixvkxxvvsajitzxcvvbezmbnglkwsnmqxecgfjxcvzsysokyewupakmfjjtwjiqwexitgoznwtimxzgewskdmicmgmpoekeypqusfitatpfovzlgkgxizbntbjqpcafpzuwocpkyjguoqmcnpeivbdqldcqkawikuvkmdbqvaikitakpyfvgacxtiijcvjijaowtmixlcoocdwgkeajvyfktgjwzzanxclapampbxgbmtetngyyumkemiqiggfxvoubsiemjwfyjzwlsxqfpotdbpusluexmuwkyzqsjlsloldiqyjblpsujxtfeeixluktalimfdiiwubqvdsmbbjxzcvdqtgbtevmlkolmnsiydxuaaubulnzscoopuqakwnnwgnvpignakbpwkgapuwuawdmdactluoovbbotgbafszbgukovsdnknakzyczlzqvqmeenpiyywcioanbbqffscplmntvaspeqaqmlxjywonjenoozpqebjliftfmlbeymayspcyllcetbtmoidbmwdonfnuxpttqbaoeiweykwtuakmajwlzuymbbcxcnnxezkzypyqaufbxziyfyggsfkjyjzlqqxnuypvimvwbbxwlavxjninvxjyddejclcaodwfucdsmkccvaoynvsficxzdnmyvfbdotsmncicjnsiqafizvibgqeapntkniagampbckuuezbnydoplvgjejqtilxajfqkkpxcdpyqbeiisucqybscyscscpaaqyvgmcmcijtwmkiaozeluxvukxbmizpxndyjxsuiaizawtxwoqjpugizvufwjvxscoeiqzdcqmcisckkskpzovfeukzdamjilzedgpbnddstwoblwevduslwgxqvttjesioswkfgojkmdzgytvuugewesjgquvcdkuokzieaizeenqdazmeobcofxgldvkxqiewulyaqzxejbkpayjcywmaeuoxfgtdymvenxmfiqbvdzissqampwpooovsoiflpoqydauotdkqjefzqtuogaftyjmpuuxkqgkaczwisyctlbqzsjusmapxtsyucsjzswbfcnqgzeasffawejjmvkaofoigkxzawcbfwvfejndvtokcljtdbsuieiqjnbesgbsjvslinnankqdobkkszaeknuddvuvgggdcyezlogexcpeqxuowjiwzvbliiymtbdlkltsimlxnaunaywzgjczuymtwtekdcnjwadoxcbfjdqmdnevjglqmamkdmabmmpigwtkgexknzqjdbtgvbzddvxvqqemnutoolglfjpkiuusilpqstsgvomtbgzcngfcjcdvviafqstxulqxqtwiulbmnqbfbvwsbkrgcmoifvfbtwfwjgsvaokzbicqxgpjopgyasxtcpyfylvodvtvfgsefulctkvwwyvlyngblgbbsnimeduwtsljfivqstkucdsgtwfpmdpeysogolimyquyaqegdgzmtecdjvkoudddglgloknwetevoylfmuyzlyzmbnmidwqfjzfvqfsnyujzvowbeaaxwexxoxbbacbxwjmxycocsjeywkinejdzvqoqwuygaibgtqjgfcntykovlnpgkexaegtgtkbdnqybbyxyuolewqzmiygtgjjydkdwzuobxnmsyfvknpxtpjliokwiubfdmdyzuwwcbovzzzzvinosvytlkospmtoffymqqxpfvlgzuwvbpkxmtkoulfqtepxnymktekecsbcjjepfkfymtknlsimdskbqblggvdsjmbeddyfqgydjocitgyaxfetweuqgddjblftvntcvsyfiaocolgwzcwnaxjmknejyfqbcmnpxobbometbyxndxxvxoiizxtdtwziwnaytyjdibyiknunywxabvoobxvdqvdwefywecgcqtcdjwelycezpvepjqosglnwpmmvzkbeifdzwgjytespluszuwvqdtfxldyaqudvfeuybfyjvxsxsedmppkmgcpbgjlsqzsmijmnzawagoiegjjvacxbczbyauuntdyqabsfgdoxptqxlpdgkunovezpaadvynncqdsdxxjnzqyfluujkjemxnxqpklbnzluaxwjubjmfvnkfwsxefmvabfeuvnfzioulufpzanmkkdbnvuelxugxngbezvyqcibeiudkvieaklzddeugnypwfebgpzxoqbpwoxwtmdvjfzvwncdosekzffuifkjyakdjpuypsdkvkgasqffxzqkmpmuejxgwcoppuidbgecndopibdotpdxkslywmcfaetmsxdkwypybggasmlwqjmvnlbivxketutvxpwvgbzfgpmsvcvvtwkloeljxalxzzfgbbcllopakazjvzgqadvllywpxamyodlvvqmpqgfbmcalnmzkqznflwvfzzaxdoyeczavqwpxuxglulkeaqumbdyzoutwtkbneoxlqlkleeotwtydzdcqipgyfdecjpyfvgzzmekmtlisyaldogvpwcqjdsgwucptuaibvntpukmgvjjansjkmpylvexmqgysjnwqnwudoqoquflcqyzffewolymmosbxvcgbnaauxopkllslgeguzngxszbkbdvfnvaitxtaimctciiydovnnffaamfvtawoqazqkdnpwuxkvxfapbogupbfoguzdivsxuyvdgyvwkcvkoptkdiunguslfafuoixcvwgxauqjnpfimlkavqpdomyiefhoisfujicsxglubqntfamsndkvgviukzfoxipwgtuewjpnzpllfmsilwgbvoajuydsnjollmljygoqfjujazlgxdwbwoiywlejidwjigiftnnbfnxzqvqyempksflipedanfpxknvmzezpfytiwwoadjfibznntgwtwwkkvqvdoqpysbfmbzkcxiwqftcgpwobcsefynfsxmsjmnlspimoftwcxkmzvudzgydagjajfdvnlgsybafzmccsykpjpvuekxkgkcfdniecdoquugwegimkdioekyubebqlwwuszbiynpwffeybuuiomwwsdppdneuunjgxktscgzzyqgwlesywoibkfidnogmgbtasxleelkxtecwssjusbcptnggtvxpincqvujktpzhm\""
   ]
  },
  {
   "cell_type": "code",
   "execution_count": 48,
   "metadata": {},
   "outputs": [
    {
     "data": {
      "text/plain": [
       "'j'"
      ]
     },
     "execution_count": 48,
     "metadata": {},
     "output_type": "execute_result"
    }
   ],
   "source": [
    "teststr[4835+19+48]"
   ]
  },
  {
   "cell_type": "code",
   "execution_count": 59,
   "metadata": {},
   "outputs": [
    {
     "name": "stdout",
     "output_type": "stream",
     "text": [
      "NO\n"
     ]
    }
   ],
   "source": [
    "ans = hackerrankInString(teststr)\n",
    "print(ans)"
   ]
  },
  {
   "cell_type": "code",
   "execution_count": 53,
   "metadata": {},
   "outputs": [
    {
     "data": {
      "text/plain": [
       "401"
      ]
     },
     "execution_count": 53,
     "metadata": {},
     "output_type": "execute_result"
    }
   ],
   "source": [
    "len(teststr)-4835-1"
   ]
  },
  {
   "cell_type": "code",
   "execution_count": null,
   "metadata": {},
   "outputs": [],
   "source": []
  }
 ],
 "metadata": {
  "kernelspec": {
   "display_name": "Python 3",
   "language": "python",
   "name": "python3"
  },
  "language_info": {
   "codemirror_mode": {
    "name": "ipython",
    "version": 3
   },
   "file_extension": ".py",
   "mimetype": "text/x-python",
   "name": "python",
   "nbconvert_exporter": "python",
   "pygments_lexer": "ipython3",
   "version": "3.7.3"
  }
 },
 "nbformat": 4,
 "nbformat_minor": 2
}
