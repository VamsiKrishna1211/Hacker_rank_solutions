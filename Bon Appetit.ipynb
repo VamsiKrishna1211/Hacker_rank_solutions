{
 "cells": [
  {
   "cell_type": "code",
   "execution_count": 2,
   "metadata": {},
   "outputs": [
    {
     "name": "stdout",
     "output_type": "stream",
     "text": [
      "4 1\n",
      "3 10 2 9\n",
      "12\n"
     ]
    }
   ],
   "source": [
    "nk = input().rstrip().split()\n",
    "\n",
    "n = int(nk[0])\n",
    "\n",
    "k = int(nk[1])\n",
    "\n",
    "bill = list(map(int, input().rstrip().split()))\n",
    "\n",
    "b = int(input().strip())"
   ]
  },
  {
   "cell_type": "code",
   "execution_count": 5,
   "metadata": {},
   "outputs": [],
   "source": [
    "def bonAppetit(bill, k, b):\n",
    "    act_change=sum(bill)-bill[k]\n",
    "    act_change=act_change/2\n",
    "    if(act_change-b==0):\n",
    "        print(\"Bon Appetit\")\n",
    "    else:\n",
    "        print(int(b-act_change))"
   ]
  },
  {
   "cell_type": "code",
   "execution_count": 6,
   "metadata": {},
   "outputs": [
    {
     "name": "stdout",
     "output_type": "stream",
     "text": [
      "5\n"
     ]
    }
   ],
   "source": [
    "bonAppetit(bill,k,b)"
   ]
  },
  {
   "cell_type": "code",
   "execution_count": null,
   "metadata": {
    "collapsed": true
   },
   "outputs": [],
   "source": []
  }
 ],
 "metadata": {
  "kernelspec": {
   "display_name": "Python 3",
   "language": "python",
   "name": "python3"
  },
  "language_info": {
   "codemirror_mode": {
    "name": "ipython",
    "version": 3
   },
   "file_extension": ".py",
   "mimetype": "text/x-python",
   "name": "python",
   "nbconvert_exporter": "python",
   "pygments_lexer": "ipython3",
   "version": "3.7.4"
  }
 },
 "nbformat": 4,
 "nbformat_minor": 2
}
