{
 "cells": [
  {
   "cell_type": "code",
   "execution_count": null,
   "metadata": {},
   "outputs": [],
   "source": [
    "def breakingRecords(scores):\n",
    "    mx=scores[0]\n",
    "    mn=scores[0]\n",
    "    mxcount = 0\n",
    "    mncount = 0\n",
    "    for i in scores:\n",
    "        print(i,\"i\")\n",
    "        if (i>mx):\n",
    "            mxcount+=1\n",
    "            print(mxcount)\n",
    "            mx=i\n",
    "        if (i<mn):\n",
    "            mncount+=1\n",
    "            print(mncount,\"mncount\")\n",
    "            mn=i\n",
    "        else:\n",
    "            continue\n",
    "    return(mxcount,mncount)"
   ]
  }
 ],
 "metadata": {
  "kernelspec": {
   "display_name": "Python 3",
   "language": "python",
   "name": "python3"
  },
  "language_info": {
   "codemirror_mode": {
    "name": "ipython",
    "version": 3
   },
   "file_extension": ".py",
   "mimetype": "text/x-python",
   "name": "python",
   "nbconvert_exporter": "python",
   "pygments_lexer": "ipython3",
   "version": "3.7.4"
  }
 },
 "nbformat": 4,
 "nbformat_minor": 2
}
