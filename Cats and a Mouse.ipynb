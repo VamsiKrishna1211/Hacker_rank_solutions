{
 "cells": [
  {
   "cell_type": "code",
   "execution_count": 5,
   "metadata": {},
   "outputs": [],
   "source": [
    "def catAndMouse(x, y, z):\n",
    "    if (abs(x-z)<abs(y-z)):\n",
    "        return \"Cat A\"\n",
    "    elif(abs(y-z)<abs(x-z)):\n",
    "        return \"Cat B\"\n",
    "    elif(abs(x-z)==abs(y-z)):\n",
    "        return \"Mouse C\"\n",
    "\n",
    "q=int(input())\n",
    "for q_itr in range(q):\n",
    "    \n",
    "    x,y,z =map(int, input().rstrip().split())\n",
    "    print(catAndMouse(x, y, z))\n",
    "\n",
    "#Test cases\n",
    "#Enter q=2\n",
    "#1st test case is <1 2 3> answer:Cat B\n",
    "#2nd test case is <1 3 2> answer: Mouse C\n",
    "\n",
    "#Just repace the whole code in hacker rank with the code above\n",
    "#Or just submit the code as a file\n",
    "\n"
   ]
  }
 ],
 "metadata": {
  "kernelspec": {
   "display_name": "Python 3",
   "language": "python",
   "name": "python3"
  },
  "language_info": {
   "codemirror_mode": {
    "name": "ipython",
    "version": 3
   },
   "file_extension": ".py",
   "mimetype": "text/x-python",
   "name": "python",
   "nbconvert_exporter": "python",
   "pygments_lexer": "ipython3",
   "version": "3.7.4"
  }
 },
 "nbformat": 4,
 "nbformat_minor": 2
}
