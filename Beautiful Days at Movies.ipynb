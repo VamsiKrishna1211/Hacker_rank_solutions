{
 "cells": [
  {
   "cell_type": "code",
   "execution_count": 27,
   "metadata": {},
   "outputs": [
    {
     "name": "stdout",
     "output_type": "stream",
     "text": [
      "20 23 6\n",
      "20 02\n",
      "21 12\n",
      "22 22\n",
      "23 32\n",
      "2\n"
     ]
    }
   ],
   "source": [
    "def numberReverse(num):\n",
    "    num=str(num)\n",
    "    rev=''\n",
    "    for i in range(len(num)-1,-1,-1):\n",
    "        rev=rev+num[i]\n",
    "    print(num,rev)\n",
    "    return int(rev)\n",
    "\n",
    "def beautifulDays(start, end, check):\n",
    "    beautiful_days_count=0\n",
    "    for i in range(start, end+1):\n",
    "        if(abs((i-numberReverse(i))%check)==0):\n",
    "            beautiful_days_count+=1\n",
    "        else:\n",
    "            continue\n",
    "    return beautiful_days_count\n",
    "\n",
    "if __name__==\"__main__\":\n",
    "    i,j,k=map(int, input().split())\n",
    "    result = beautifulDays(i,j,k)\n",
    "    print(result)"
   ]
  },
  {
   "cell_type": "code",
   "execution_count": 21,
   "metadata": {},
   "outputs": [],
   "source": [
    "k=int('02')"
   ]
  },
  {
   "cell_type": "code",
   "execution_count": 22,
   "metadata": {},
   "outputs": [
    {
     "data": {
      "text/plain": [
       "2"
      ]
     },
     "execution_count": 22,
     "metadata": {},
     "output_type": "execute_result"
    }
   ],
   "source": [
    "k"
   ]
  },
  {
   "cell_type": "code",
   "execution_count": null,
   "metadata": {},
   "outputs": [],
   "source": []
  }
 ],
 "metadata": {
  "kernelspec": {
   "display_name": "Python 3",
   "language": "python",
   "name": "python3"
  },
  "language_info": {
   "codemirror_mode": {
    "name": "ipython",
    "version": 3
   },
   "file_extension": ".py",
   "mimetype": "text/x-python",
   "name": "python",
   "nbconvert_exporter": "python",
   "pygments_lexer": "ipython3",
   "version": "3.7.5"
  }
 },
 "nbformat": 4,
 "nbformat_minor": 2
}
