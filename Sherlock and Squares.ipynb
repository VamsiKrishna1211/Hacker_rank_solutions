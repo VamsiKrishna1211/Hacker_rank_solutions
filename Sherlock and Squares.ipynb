{
 "cells": [
  {
   "cell_type": "code",
   "execution_count": 2,
   "metadata": {},
   "outputs": [
    {
     "name": "stdout",
     "output_type": "stream",
     "text": [
      "1\n",
      "17 24\n",
      "0\n"
     ]
    }
   ],
   "source": [
    "def squares(a,b):\n",
    "    from math import sqrt, ceil, floor\n",
    "    lower_limit=ceil(sqrt(a))\n",
    "    upper_limit=floor(sqrt(b))\n",
    "    int_count=0\n",
    "    int_count=int_count+(upper_limit-lower_limit)+1\n",
    "    return (int_count)\n",
    "\n",
    "\n",
    "if __name__==\"__main__\":\n",
    "    q_iter=int(input())\n",
    "    for i in range(q_iter):\n",
    "        a,b=map(int, input().strip().split())\n",
    "        print(squares(a,b))"
   ]
  },
  {
   "cell_type": "code",
   "execution_count": null,
   "metadata": {},
   "outputs": [],
   "source": []
  }
 ],
 "metadata": {
  "kernelspec": {
   "display_name": "Python 3",
   "language": "python",
   "name": "python3"
  },
  "language_info": {
   "codemirror_mode": {
    "name": "ipython",
    "version": 3
   },
   "file_extension": ".py",
   "mimetype": "text/x-python",
   "name": "python",
   "nbconvert_exporter": "python",
   "pygments_lexer": "ipython3",
   "version": "3.7.5"
  }
 },
 "nbformat": 4,
 "nbformat_minor": 2
}
