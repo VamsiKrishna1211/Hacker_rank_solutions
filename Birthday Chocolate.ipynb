{
 "cells": [
  {
   "cell_type": "code",
   "execution_count": 29,
   "metadata": {},
   "outputs": [
    {
     "name": "stdout",
     "output_type": "stream",
     "text": [
      "6\n",
      "1 1 1 1 1 1\n",
      "3 2\n"
     ]
    }
   ],
   "source": [
    "#Uncomment the below for custom input\n",
    "\n",
    "#n = int(input().strip())\n",
    "\n",
    "#s = list(map(int, input().rstrip().split()))\n",
    "\n",
    "#d,m = map(int, input().rstrip().split())"
   ]
  },
  {
   "cell_type": "code",
   "execution_count": 32,
   "metadata": {},
   "outputs": [],
   "source": [
    "def birthday(n, s, d, m):\n",
    "    ans=0\n",
    "    for i in range(0,n):\n",
    "        if(sum(s[i:i+m])==d):\n",
    "            ans+=1\n",
    "    return ans"
   ]
  },
  {
   "cell_type": "code",
   "execution_count": 37,
   "metadata": {},
   "outputs": [],
   "source": [
    "#Test case 1\n",
    "#result = 0\n",
    "n=6\n",
    "s=[1, 1, 1, 1, 1, 1]\n",
    "d,m=map(int, [3, 2])\n",
    "print(\"test case 1\")\n",
    "print(birthday(n,s,d,m))"
   ]
  },
  {
   "cell_type": "code",
   "execution_count": null,
   "metadata": {},
   "outputs": [],
   "source": [
    "#Test case 2\n",
    "#result = 2\n",
    "n=5\n",
    "s=[1, 2, 1, 3, 2]\n",
    "d,m=map(int, [3, 2])\n",
    "print(\"Test case 2\")\n",
    "print(birthday(n,s,d,m))"
   ]
  }
 ],
 "metadata": {
  "kernelspec": {
   "display_name": "Python 3",
   "language": "python",
   "name": "python3"
  },
  "language_info": {
   "codemirror_mode": {
    "name": "ipython",
    "version": 3
   },
   "file_extension": ".py",
   "mimetype": "text/x-python",
   "name": "python",
   "nbconvert_exporter": "python",
   "pygments_lexer": "ipython3",
   "version": "3.7.4"
  }
 },
 "nbformat": 4,
 "nbformat_minor": 2
}
