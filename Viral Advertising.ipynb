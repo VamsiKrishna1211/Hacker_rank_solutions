{
 "cells": [
  {
   "cell_type": "code",
   "execution_count": 10,
   "metadata": {},
   "outputs": [
    {
     "name": "stdout",
     "output_type": "stream",
     "text": [
      "5\n",
      "24\n"
     ]
    }
   ],
   "source": [
    "from math import floor\n",
    "\n",
    "def viralAdvertising(days):\n",
    "    recipients=5\n",
    "    total_likes=0\n",
    "    for i in range(days):\n",
    "        if (i==0):\n",
    "            liked=2\n",
    "            total_likes+=liked\n",
    "            recipients=floor(recipients/2)*3\n",
    "            continue\n",
    "        liked=liked+floor(recipients/2)\n",
    "        recipients=floor(recipients/2)*3\n",
    "    return liked\n",
    "        \n",
    "        \n",
    "\n",
    "if __name__==\"__main__\":\n",
    "    days=int(input())\n",
    "    result = viralAdvertising(days)\n",
    "    print(result)"
   ]
  },
  {
   "cell_type": "code",
   "execution_count": 7,
   "metadata": {},
   "outputs": [
    {
     "data": {
      "text/plain": [
       "1.0"
      ]
     },
     "execution_count": 7,
     "metadata": {},
     "output_type": "execute_result"
    }
   ],
   "source": [
    "2/2"
   ]
  },
  {
   "cell_type": "code",
   "execution_count": null,
   "metadata": {},
   "outputs": [],
   "source": []
  }
 ],
 "metadata": {
  "kernelspec": {
   "display_name": "Python 3",
   "language": "python",
   "name": "python3"
  },
  "language_info": {
   "codemirror_mode": {
    "name": "ipython",
    "version": 3
   },
   "file_extension": ".py",
   "mimetype": "text/x-python",
   "name": "python",
   "nbconvert_exporter": "python",
   "pygments_lexer": "ipython3",
   "version": "3.7.5"
  }
 },
 "nbformat": 4,
 "nbformat_minor": 2
}
