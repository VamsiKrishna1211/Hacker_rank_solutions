{
 "cells": [
  {
   "cell_type": "code",
   "execution_count": 6,
   "metadata": {},
   "outputs": [
    {
     "name": "stdout",
     "output_type": "stream",
     "text": [
      "1 3 1 3 1 4 1 3 2 5 5 5 5 5 5 5 5 5 5 5 5 5 5 5 5 7\n",
      "zaba\n",
      "28\n"
     ]
    }
   ],
   "source": [
    "def maxHeight(h,text):\n",
    "    th=0\n",
    "    for i in text:\n",
    "        if (h[ord(i)-ord('a')]>th):\n",
    "            th=h[ord(i)-ord('a')]\n",
    "    return th\n",
    "\n",
    "def designerPdfViewer(h, word):\n",
    "    return (h*len(word))\n",
    "\n",
    "\n",
    "if __name__==\"__main__\":\n",
    "    heights=list(map(int,input().rstrip().split()))\n",
    "    word=input()\n",
    "    finalHeight=maxHeight(heights,word)\n",
    "    print(designerPdfViewer(finalHeight,word))\n",
    "    "
   ]
  },
  {
   "cell_type": "code",
   "execution_count": null,
   "metadata": {},
   "outputs": [],
   "source": []
  }
 ],
 "metadata": {
  "kernelspec": {
   "display_name": "Python 3",
   "language": "python",
   "name": "python3"
  },
  "language_info": {
   "codemirror_mode": {
    "name": "ipython",
    "version": 3
   },
   "file_extension": ".py",
   "mimetype": "text/x-python",
   "name": "python",
   "nbconvert_exporter": "python",
   "pygments_lexer": "ipython3",
   "version": "3.7.4"
  }
 },
 "nbformat": 4,
 "nbformat_minor": 2
}
