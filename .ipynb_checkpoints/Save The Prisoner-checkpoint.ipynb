{
 "cells": [
  {
   "cell_type": "code",
   "execution_count": 15,
   "metadata": {},
   "outputs": [
    {
     "name": "stdout",
     "output_type": "stream",
     "text": [
      "1\n",
      "5 2 1\n",
      "2\n"
     ]
    }
   ],
   "source": [
    "def saveThePrisoner(n,m,s):\n",
    "    n_clone=n\n",
    "    m_clone=m\n",
    "    div = m_clone/n_clone\n",
    "    div = int(div)\n",
    "    if (m_clone>n_clone):\n",
    "        n_clone=m_clone-(n_clone*((div)))\n",
    "        if (s+n_clone-1>n):\n",
    "            return s+n_clone-1-n\n",
    "            \n",
    "            \n",
    "            #return (s+n_clone-1)\n",
    "        else:\n",
    "            \n",
    "            return s+n_clone-1\n",
    "    \n",
    "    elif(m_clone==n_clone):\n",
    "        return n_clone\n",
    "    else:\n",
    "        if (s+m<=n):\n",
    "            return m+s-1\n",
    "        else:\n",
    "            return s+m-n-1\n",
    "        \n",
    "    \n",
    "        \n",
    "\n",
    "\n",
    "if __name__==\"__main__\":\n",
    "\n",
    "    no_itr=int(input())\n",
    "    for i in range(no_itr):\n",
    "        prisoners,sweets,start_chair=map(int, input().rstrip().split())\n",
    "        warning_chair= saveThePrisoner(prisoners,sweets,start_chair)\n",
    "        print(warning_chair)"
   ]
  },
  {
   "cell_type": "code",
   "execution_count": null,
   "metadata": {},
   "outputs": [],
   "source": []
  }
 ],
 "metadata": {
  "kernelspec": {
   "display_name": "Python 3",
   "language": "python",
   "name": "python3"
  },
  "language_info": {
   "codemirror_mode": {
    "name": "ipython",
    "version": 3
   },
   "file_extension": ".py",
   "mimetype": "text/x-python",
   "name": "python",
   "nbconvert_exporter": "python",
   "pygments_lexer": "ipython3",
   "version": "3.7.4"
  }
 },
 "nbformat": 4,
 "nbformat_minor": 2
}
