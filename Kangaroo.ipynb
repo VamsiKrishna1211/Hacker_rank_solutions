{
 "cells": [
  {
   "cell_type": "code",
   "execution_count": 8,
   "metadata": {},
   "outputs": [
    {
     "name": "stdout",
     "output_type": "stream",
     "text": [
      "43 2 70 2\n",
      "NO\n"
     ]
    }
   ],
   "source": [
    "#Replace the whole program in hacker rank with the code below\n",
    "#Or submit this code as a file for testing the program (after converting it into .py extension of course)\n",
    "x1,v1,x2,v2 = map(int, input().rstrip().split())\n",
    "\n",
    "def meet_calc(mx,mn,add1,add2):\n",
    "    while(1):\n",
    "        #print(mx,mn)\n",
    "        if(add1<add2):\n",
    "            if(mx==mn):\n",
    "                return \"YES\"\n",
    "            if(mx<mn):\n",
    "                return \"NO\"\n",
    "        if(add1>add2 or add1==add2 and mx>mn):\n",
    "            return \"NO\"\n",
    "        \n",
    "        mx+=add1\n",
    "        mn+=add2\n",
    "def kangaroo(x1,v1,x2,v2):\n",
    "    if(x1>x2):\n",
    "        return meet_calc(x1,x2,v1,v2)\n",
    "    elif(x2>x1):\n",
    "        return meet_calc(x2,x1,v2,v1)\n",
    "    elif (x1==x2):\n",
    "        return \"YES\"\n",
    "print(kangaroo(x1,v1,x2,v2))"
   ]
  },
  {
   "cell_type": "code",
   "execution_count": null,
   "metadata": {},
   "outputs": [],
   "source": []
  }
 ],
 "metadata": {
  "kernelspec": {
   "display_name": "Python 3",
   "language": "python",
   "name": "python3"
  },
  "language_info": {
   "codemirror_mode": {
    "name": "ipython",
    "version": 3
   },
   "file_extension": ".py",
   "mimetype": "text/x-python",
   "name": "python",
   "nbconvert_exporter": "python",
   "pygments_lexer": "ipython3",
   "version": "3.7.4"
  }
 },
 "nbformat": 4,
 "nbformat_minor": 2
}
