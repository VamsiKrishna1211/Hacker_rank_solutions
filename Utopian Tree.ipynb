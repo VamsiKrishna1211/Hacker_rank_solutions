{
 "cells": [
  {
   "cell_type": "code",
   "execution_count": 2,
   "metadata": {},
   "outputs": [
    {
     "name": "stdout",
     "output_type": "stream",
     "text": [
      "1\n",
      "4\n",
      "7\n"
     ]
    }
   ],
   "source": [
    "def utopianTree(cycles):\n",
    "    h=1\n",
    "    for cyc_no in range(cycles):\n",
    "        if (cyc_no%2==0):\n",
    "            h=h*2\n",
    "        elif (cyc_no):\n",
    "            h+=1\n",
    "    return h\n",
    "if __name__=='__main__':\n",
    "    n=int(input())\n",
    "    for itr in range(n):\n",
    "        cycles=int(input())\n",
    "        print(utopianTree(cycles))\n",
    "        "
   ]
  },
  {
   "cell_type": "code",
   "execution_count": null,
   "metadata": {},
   "outputs": [],
   "source": []
  }
 ],
 "metadata": {
  "kernelspec": {
   "display_name": "Python 3",
   "language": "python",
   "name": "python3"
  },
  "language_info": {
   "codemirror_mode": {
    "name": "ipython",
    "version": 3
   },
   "file_extension": ".py",
   "mimetype": "text/x-python",
   "name": "python",
   "nbconvert_exporter": "python",
   "pygments_lexer": "ipython3",
   "version": "3.7.4"
  }
 },
 "nbformat": 4,
 "nbformat_minor": 2
}
