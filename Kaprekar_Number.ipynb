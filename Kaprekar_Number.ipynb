{
 "cells": [
  {
   "cell_type": "code",
   "execution_count": null,
   "metadata": {},
   "outputs": [],
   "source": [
    "def kaprekarNumbers(p, q):\n",
    "    count = 0\n",
    "    for i in range(p,q+1):\n",
    "        sqr = i*i\n",
    "        d = len(str(i))\n",
    "        s = str(sqr)\n",
    "        l = len(str(sqr))\n",
    "        if(d == 1 and len(s)<=2):\n",
    "            if(len(s)== 1):\n",
    "                if(i==1):\n",
    "                    print(1,end=\" \")\n",
    "                    continue\n",
    "                continue\n",
    "            else:\n",
    "                \n",
    "                ans = int(s[0]) + int(s[1])\n",
    "                if(ans == i):\n",
    "                    print(i,end=\" \")\n",
    "                    count+=1\n",
    "        else:\n",
    "            #print('i = ',i)\n",
    "            #print('sqr = ',s,' ',sqr, ' ',l,' ',d)\n",
    "            #print\n",
    "            i1 = s[l-d:l]\n",
    "            #print('i1 = ',i1)\n",
    "            i2 = s[:l-d]\n",
    "            #print('i2 = ',i2)\n",
    "            i1 = int(i1)\n",
    "            i2 = int(i2)\n",
    "            if(i1+i2 == i):\n",
    "                print(i,end=\" \")\n",
    "                count+=1\n",
    "    if(count == 0):\n",
    "        print('INVALID RANGE')\n",
    "\n",
    "            \n",
    "            \n",
    "        \n",
    "\n",
    "\n",
    "            \n",
    "            \n",
    "p = int(input())\n",
    "q = int(input())\n",
    "kaprekarNumbers(p, q)"
   ]
  }
 ],
 "metadata": {
  "kernelspec": {
   "display_name": "Python 3",
   "language": "python",
   "name": "python3"
  },
  "language_info": {
   "codemirror_mode": {
    "name": "ipython",
    "version": 3
   },
   "file_extension": ".py",
   "mimetype": "text/x-python",
   "name": "python",
   "nbconvert_exporter": "python",
   "pygments_lexer": "ipython3",
   "version": "3.7.3"
  }
 },
 "nbformat": 4,
 "nbformat_minor": 2
}
