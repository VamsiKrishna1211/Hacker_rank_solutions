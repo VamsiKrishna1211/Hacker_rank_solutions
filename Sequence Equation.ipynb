{
 "cells": [
  {
   "cell_type": "code",
   "execution_count": 18,
   "metadata": {},
   "outputs": [
    {
     "name": "stdout",
     "output_type": "stream",
     "text": [
      "1\n",
      "4 3 5 1 2\n",
      "1\n",
      "3\n",
      "5\n",
      "4\n",
      "2\n"
     ]
    }
   ],
   "source": [
    "def permutationEquation(p):\n",
    "    s=sorted(p)\n",
    "    ret=[]\n",
    "    for i in s:\n",
    "        p_in=p.index(i)\n",
    "        p_out=p.index(p_in+1)\n",
    "        ret.append(p_out+1)\n",
    "    return ret\n",
    "if __name__==\"__main__\":\n",
    "    l=int(input())\n",
    "    p=list(map(int, input().rstrip().split()))\n",
    "    result=permutationEquation(p)\n",
    "    print('\\n'.join(map(str, result)))\n"
   ]
  },
  {
   "cell_type": "code",
   "execution_count": null,
   "metadata": {},
   "outputs": [],
   "source": []
  }
 ],
 "metadata": {
  "kernelspec": {
   "display_name": "Python 3",
   "language": "python",
   "name": "python3"
  },
  "language_info": {
   "codemirror_mode": {
    "name": "ipython",
    "version": 3
   },
   "file_extension": ".py",
   "mimetype": "text/x-python",
   "name": "python",
   "nbconvert_exporter": "python",
   "pygments_lexer": "ipython3",
   "version": "3.7.5"
  }
 },
 "nbformat": 4,
 "nbformat_minor": 2
}
