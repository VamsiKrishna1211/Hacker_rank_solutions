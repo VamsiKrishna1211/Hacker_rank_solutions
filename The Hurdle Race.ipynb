{
 "cells": [
  {
   "cell_type": "code",
   "execution_count": 3,
   "metadata": {},
   "outputs": [
    {
     "name": "stdout",
     "output_type": "stream",
     "text": [
      "5 4\n",
      "1 6 3 5 2\n",
      "2\n"
     ]
    }
   ],
   "source": [
    "def hurdleRace(k,h):\n",
    "    mx=max(h)\n",
    "    if(mx-k<0):\n",
    "        return 0\n",
    "    else:\n",
    "        return (mx-k)\n",
    "    \n",
    "    \n",
    "if __name__=='__main__':\n",
    "    n,k=map(int, input().rstrip().split())\n",
    "    h=list(map(int, input().rstrip().split()))\n",
    "    print(hurdleRace(k,h))"
   ]
  },
  {
   "cell_type": "code",
   "execution_count": null,
   "metadata": {},
   "outputs": [],
   "source": []
  }
 ],
 "metadata": {
  "kernelspec": {
   "display_name": "Python 3",
   "language": "python",
   "name": "python3"
  },
  "language_info": {
   "codemirror_mode": {
    "name": "ipython",
    "version": 3
   },
   "file_extension": ".py",
   "mimetype": "text/x-python",
   "name": "python",
   "nbconvert_exporter": "python",
   "pygments_lexer": "ipython3",
   "version": "3.7.4"
  }
 },
 "nbformat": 4,
 "nbformat_minor": 2
}
