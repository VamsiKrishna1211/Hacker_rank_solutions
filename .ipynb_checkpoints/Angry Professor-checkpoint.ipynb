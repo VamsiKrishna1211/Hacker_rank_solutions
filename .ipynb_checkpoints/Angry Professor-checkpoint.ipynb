{
 "cells": [
  {
   "cell_type": "code",
   "execution_count": 9,
   "metadata": {},
   "outputs": [
    {
     "name": "stdout",
     "output_type": "stream",
     "text": [
      "1\n",
      "4 3\n",
      "-1 -3 4 2\n",
      "YES\n"
     ]
    }
   ],
   "source": [
    "#!/home/vamsil1211/git_repos/Hacker_rank_solutions python\n",
    "def angryProfessor(k, a):\n",
    "    threshold=0\n",
    "    for i in a:\n",
    "        \n",
    "        if(i<=0):\n",
    "            threshold+=1\n",
    "            if(threshold>=k):\n",
    "                return \"NO\"\n",
    "        if(threshold>=k):\n",
    "            return \"NO\"\n",
    "    return \"YES\"\n",
    "\n",
    "\n",
    "if __name__=='__main__':\n",
    "    num_test_cases=int(input())\n",
    "    for i in range(num_test_cases):\n",
    "        n,k=map(int, input().rstrip().split())\n",
    "        arrival=list(map(int, input().rstrip().split()))\n",
    "        result=angryProfessor(k, arrival)\n",
    "        print (result)"
   ]
  },
  {
   "cell_type": "code",
   "execution_count": null,
   "metadata": {},
   "outputs": [],
   "source": []
  }
 ],
 "metadata": {
  "kernelspec": {
   "display_name": "Python 3",
   "language": "python",
   "name": "python3"
  },
  "language_info": {
   "codemirror_mode": {
    "name": "ipython",
    "version": 3
   },
   "file_extension": ".py",
   "mimetype": "text/x-python",
   "name": "python",
   "nbconvert_exporter": "python",
   "pygments_lexer": "ipython3",
   "version": "3.7.4"
  }
 },
 "nbformat": 4,
 "nbformat_minor": 2
}
